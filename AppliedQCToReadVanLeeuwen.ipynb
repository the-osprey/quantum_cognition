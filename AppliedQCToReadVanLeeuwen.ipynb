{
 "cells": [
  {
   "cell_type": "code",
   "execution_count": 82,
   "metadata": {},
   "outputs": [],
   "source": [
    "import numpy as np\n",
    "import pandas as pd\n",
    "import matplotlib.pyplot as plt\n",
    "import seaborn as sns\n",
    "sns.set(style=\"darkgrid\")\n"
   ]
  },
  {
   "cell_type": "code",
   "execution_count": 88,
   "metadata": {},
   "outputs": [
    {
     "data": {
      "image/png": "[encoded data removed]",
      "text/plain": [
       "<matplotlib.figure.Figure at 0x7fe9985bd2e8>"
      ]
     },
     "metadata": {},
     "output_type": "display_data"
    }
   ],
   "source": [
    "# Read and van Leeuwen Data Reproduction\n",
    "\n",
    "hunger_data = {'Condition':['HH', 'HH', 'SH', 'SH', 'HS', 'HS', 'SS', 'SS'], \n",
    "               'Percent chosing unhealthy snack':[.78, .92, .56, .88, .42, .82, .26, .70], \n",
    "               'Choice Type':['Advance', 'Immediate', 'Advance', 'Immediate',\n",
    "                      'Advance', 'Immediate','Advance', 'Immediate']}\n",
    "hunger_df = pd.DataFrame(data=hunger_data)\n",
    "ax = plt.subplots(figsize=(9,6))\n",
    "ax = sns.barplot(x='Condition', y='Percent chosing unhealthy snack', hue='Choice Type', data=hunger_df)\n"
   ]
  },
  {
   "cell_type": "code",
   "execution_count": 21,
   "metadata": {},
   "outputs": [],
   "source": [
    "# Why not split by initial categories (Hungry a week in advance, etc.)\n",
    "\n",
    "# Quantum Cognition applied to Read & Van Leeuwen experiement\n",
    "# See PDF for information on their study\n",
    "\n",
    "# Probability of being in one group or the other\n",
    "PAplus_C = 0.5\n",
    "PAminus_C = 1 - PAplus_C\n",
    "\n",
    "# This is the median of all 4 advance columns\n",
    "PBplus = (.78 + .42) / 2\n",
    "PBminus = 1 - PBplus\n",
    "\n",
    "# This is the transition matrix\n",
    "Ppp = .92\n",
    "Ppm = .82\n",
    "Pmp = 1 - Ppp\n",
    "Pmm = 1 - Ppm"
   ]
  },
  {
   "cell_type": "code",
   "execution_count": 22,
   "metadata": {},
   "outputs": [
    {
     "data": {
      "text/plain": [
       "array([[ 0.92,  0.82],\n",
       "       [ 0.08,  0.18]])"
      ]
     },
     "execution_count": 22,
     "metadata": {},
     "output_type": "execute_result"
    }
   ],
   "source": [
    "transition_matrix = np.array([[Ppp, Ppm], \n",
    "                      [Pmp, Pmm]])\n",
    "transition_matrix"
   ]
  },
  {
   "cell_type": "code",
   "execution_count": 23,
   "metadata": {},
   "outputs": [
    {
     "data": {
      "text/plain": [
       "-0.27"
      ]
     },
     "execution_count": 23,
     "metadata": {},
     "output_type": "execute_result"
    }
   ],
   "source": [
    "delta_plus = PBplus - PAplus_C * Ppp - PAminus_C * Ppm\n",
    "delta_plus"
   ]
  },
  {
   "cell_type": "code",
   "execution_count": 24,
   "metadata": {},
   "outputs": [
    {
     "data": {
      "text/plain": [
       "0.27"
      ]
     },
     "execution_count": 24,
     "metadata": {},
     "output_type": "execute_result"
    }
   ],
   "source": [
    "delta_minus = PBminus - PAplus_C * Pmp - PAminus_C * Pmm\n",
    "delta_minus"
   ]
  },
  {
   "cell_type": "code",
   "execution_count": 25,
   "metadata": {},
   "outputs": [
    {
     "data": {
      "text/plain": [
       "0.1886"
      ]
     },
     "execution_count": 25,
     "metadata": {},
     "output_type": "execute_result"
    }
   ],
   "source": [
    "pi_plus = PAplus_C * PAminus_C * Ppp*Ppm\n",
    "pi_plus"
   ]
  },
  {
   "cell_type": "code",
   "execution_count": 26,
   "metadata": {},
   "outputs": [
    {
     "data": {
      "text/plain": [
       "0.003599999999999999"
      ]
     },
     "execution_count": 26,
     "metadata": {},
     "output_type": "execute_result"
    }
   ],
   "source": [
    "pi_minus = PAplus_C * PAminus_C * Pmp * Pmm\n",
    "pi_minus"
   ]
  },
  {
   "cell_type": "code",
   "execution_count": 27,
   "metadata": {},
   "outputs": [
    {
     "data": {
      "text/plain": [
       "-0.31085862686449023"
      ]
     },
     "execution_count": 27,
     "metadata": {},
     "output_type": "execute_result"
    }
   ],
   "source": [
    "lambda_plus = delta_plus / (2*np.sqrt(pi_plus))\n",
    "lambda_plus"
   ]
  },
  {
   "cell_type": "code",
   "execution_count": 28,
   "metadata": {},
   "outputs": [
    {
     "data": {
      "text/plain": [
       "2.2500000000000004"
      ]
     },
     "execution_count": 28,
     "metadata": {},
     "output_type": "execute_result"
    }
   ],
   "source": [
    "lambda_minus = delta_minus / (2 * np.sqrt(pi_minus))\n",
    "lambda_minus"
   ]
  },
  {
   "cell_type": "code",
   "execution_count": 32,
   "metadata": {
    "collapsed": true
   },
   "outputs": [],
   "source": [
    "def arccos_or_archosh(x):\n",
    "    # Define this to deal with case that arccos is out of bounds\n",
    "    if np.abs(x) <= 1:\n",
    "        return np.arccos(x)\n",
    "    else:\n",
    "        print('using arcosh!')\n",
    "        return np.arccosh(np.abs(x))"
   ]
  },
  {
   "cell_type": "code",
   "execution_count": 33,
   "metadata": {},
   "outputs": [
    {
     "data": {
      "text/plain": [
       "1.886892609914155"
      ]
     },
     "execution_count": 33,
     "metadata": {},
     "output_type": "execute_result"
    }
   ],
   "source": [
    "theta_plus = arccos_or_archosh(lambda_plus)\n",
    "theta_plus"
   ]
  },
  {
   "cell_type": "code",
   "execution_count": 34,
   "metadata": {},
   "outputs": [
    {
     "name": "stdout",
     "output_type": "stream",
     "text": [
      "using arcosh!\n"
     ]
    },
    {
     "data": {
      "text/plain": [
       "1.4505745138225803"
      ]
     },
     "execution_count": 34,
     "metadata": {},
     "output_type": "execute_result"
    }
   ],
   "source": [
    "theta_minus = arccos_or_archosh(lambda_minus)\n",
    "theta_minus"
   ]
  },
  {
   "cell_type": "code",
   "execution_count": 35,
   "metadata": {
    "collapsed": true
   },
   "outputs": [],
   "source": [
    "# Why not split by initial categories (Hungry a week in advance, etc.)\n",
    "# INITIAL SATIATED STATE!\n",
    "\n",
    "# Quantum Cognition applied to Read & Van Leeuwen experiement\n",
    "# See PDF for information on their study\n",
    "\n",
    "# Probability of being in one group or the other\n",
    "PAplus_C = 0.5\n",
    "PAminus_C = 1 - PAplus_C\n",
    "\n",
    "# This is the median of all 4 advance columns\n",
    "PBplus = (.56 + .26) / 2\n",
    "PBminus = 1 - PBplus\n",
    "\n",
    "# This is the transition matrix\n",
    "Ppp = .88\n",
    "Ppm = .70\n",
    "Pmp = 1 - Ppp\n",
    "Pmm = 1 - Ppm"
   ]
  },
  {
   "cell_type": "code",
   "execution_count": 36,
   "metadata": {},
   "outputs": [
    {
     "data": {
      "text/plain": [
       "array([[ 0.88,  0.7 ],\n",
       "       [ 0.12,  0.3 ]])"
      ]
     },
     "execution_count": 36,
     "metadata": {},
     "output_type": "execute_result"
    }
   ],
   "source": [
    "transition_matrix = np.array([[Ppp, Ppm], \n",
    "                      [Pmp, Pmm]])\n",
    "transition_matrix"
   ]
  },
  {
   "cell_type": "code",
   "execution_count": 37,
   "metadata": {},
   "outputs": [
    {
     "data": {
      "text/plain": [
       "-0.37999999999999995"
      ]
     },
     "execution_count": 37,
     "metadata": {},
     "output_type": "execute_result"
    }
   ],
   "source": [
    "delta_plus = PBplus - PAplus_C * Ppp - PAminus_C * Ppm\n",
    "delta_plus"
   ]
  },
  {
   "cell_type": "code",
   "execution_count": 38,
   "metadata": {},
   "outputs": [
    {
     "data": {
      "text/plain": [
       "0.38"
      ]
     },
     "execution_count": 38,
     "metadata": {},
     "output_type": "execute_result"
    }
   ],
   "source": [
    "delta_minus = PBminus - PAplus_C * Pmp - PAminus_C * Pmm\n",
    "delta_minus"
   ]
  },
  {
   "cell_type": "code",
   "execution_count": 39,
   "metadata": {},
   "outputs": [
    {
     "data": {
      "text/plain": [
       "0.154"
      ]
     },
     "execution_count": 39,
     "metadata": {},
     "output_type": "execute_result"
    }
   ],
   "source": [
    "pi_plus = PAplus_C * PAminus_C * Ppp*Ppm\n",
    "pi_plus"
   ]
  },
  {
   "cell_type": "code",
   "execution_count": 40,
   "metadata": {},
   "outputs": [
    {
     "data": {
      "text/plain": [
       "0.009000000000000001"
      ]
     },
     "execution_count": 40,
     "metadata": {},
     "output_type": "execute_result"
    }
   ],
   "source": [
    "pi_minus = PAplus_C * PAminus_C * Pmp * Pmm\n",
    "pi_minus"
   ]
  },
  {
   "cell_type": "code",
   "execution_count": 41,
   "metadata": {},
   "outputs": [
    {
     "data": {
      "text/plain": [
       "-0.48416483186574416"
      ]
     },
     "execution_count": 41,
     "metadata": {},
     "output_type": "execute_result"
    }
   ],
   "source": [
    "lambda_plus = delta_plus / (2*np.sqrt(pi_plus))\n",
    "lambda_plus"
   ]
  },
  {
   "cell_type": "code",
   "execution_count": 42,
   "metadata": {},
   "outputs": [
    {
     "data": {
      "text/plain": [
       "2.0027758514399734"
      ]
     },
     "execution_count": 42,
     "metadata": {},
     "output_type": "execute_result"
    }
   ],
   "source": [
    "lambda_minus = delta_minus / (2 * np.sqrt(pi_minus))\n",
    "lambda_minus"
   ]
  },
  {
   "cell_type": "code",
   "execution_count": 43,
   "metadata": {},
   "outputs": [
    {
     "data": {
      "text/plain": [
       "2.0762047389593565"
      ]
     },
     "execution_count": 43,
     "metadata": {},
     "output_type": "execute_result"
    }
   ],
   "source": [
    "theta_plus = arccos_or_archosh(lambda_plus)\n",
    "theta_plus"
   ]
  },
  {
   "cell_type": "code",
   "execution_count": 45,
   "metadata": {},
   "outputs": [
    {
     "name": "stdout",
     "output_type": "stream",
     "text": [
      "using arcosh!\n"
     ]
    },
    {
     "data": {
      "text/plain": [
       "1.3185590546600467"
      ]
     },
     "execution_count": 45,
     "metadata": {},
     "output_type": "execute_result"
    }
   ],
   "source": [
    "theta_minus = arccos_or_archosh(lambda_minus)\n",
    "theta_minus"
   ]
  },
  {
   "cell_type": "code",
   "execution_count": null,
   "metadata": {
    "collapsed": true
   },
   "outputs": [],
   "source": []
  }
 ],
 "metadata": {
  "anaconda-cloud": {},
  "kernelspec": {
   "display_name": "Python 3",
   "language": "python",
   "name": "python3"
  },
  "language_info": {
   "codemirror_mode": {
    "name": "ipython",
    "version": 3
   },
   "file_extension": ".py",
   "mimetype": "text/x-python",
   "name": "python",
   "nbconvert_exporter": "python",
   "pygments_lexer": "ipython3",
   "version": "3.6.4"
  }
 },
 "nbformat": 4,
 "nbformat_minor": 1
}
