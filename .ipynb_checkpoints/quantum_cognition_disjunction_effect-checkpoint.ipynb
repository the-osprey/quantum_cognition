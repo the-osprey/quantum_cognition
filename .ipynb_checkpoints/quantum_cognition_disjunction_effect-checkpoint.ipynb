{
 "cells": [
  {
   "cell_type": "markdown",
   "metadata": {},
   "source": [
    "# Applying quantum cognition to address disjunction effect\n",
    "\n",
    "### _Here I look at a few studies in which quantum cognition explains disjunction paradoxes_"
   ]
  },
  {
   "cell_type": "code",
   "execution_count": 3,
   "metadata": {
    "collapsed": false
   },
   "outputs": [],
   "source": [
    "import numpy as np\n",
    "import pandas as pd\n",
    "import matplotlib.pyplot as plt\n"
   ]
  },
  {
   "cell_type": "markdown",
   "metadata": {},
   "source": [
    "## Insert Given Values from Study:"
   ]
  },
  {
   "cell_type": "code",
   "execution_count": 4,
   "metadata": {
    "collapsed": false
   },
   "outputs": [
    {
     "data": {
      "text/plain": [
       "'\\nPBd = 0.54\\nPAd = 0.225\\n\\n#notice this is just a game theory matrix so must sum across row\\nPAd_Bd = 0.68\\nPAd_Bc = 0.17\\nPAc_Bc = 0.83\\nPAc_Bd = 0.32\\n'"
      ]
     },
     "execution_count": 4,
     "metadata": {},
     "output_type": "execute_result"
    }
   ],
   "source": [
    "# Croson numbers\n",
    "\"\"\"\n",
    "PBd = 0.54\n",
    "PAd = 0.225\n",
    "\n",
    "#notice this is just a game theory matrix so must sum across row\n",
    "PAd_Bd = 0.68\n",
    "PAd_Bc = 0.17\n",
    "PAc_Bc = 0.83\n",
    "PAc_Bd = 0.32\n",
    "\"\"\""
   ]
  },
  {
   "cell_type": "code",
   "execution_count": 5,
   "metadata": {
    "collapsed": false
   },
   "outputs": [],
   "source": [
    "\n",
    "# Kahneman and Tversky numbers\n",
    "PBd = 0.5\n",
    "PAd = 0.36\n",
    "\n",
    "#notice this is just a game theory matrix so must sum across row\n",
    "PAd_Bd = 0.69\n",
    "PAd_Bc = 0.59\n",
    "PAc_Bc = 0.41\n",
    "PAc_Bd = 0.31\n"
   ]
  },
  {
   "cell_type": "code",
   "execution_count": 6,
   "metadata": {
    "collapsed": false
   },
   "outputs": [],
   "source": [
    "\n",
    "# Exam & Hawaii experiment numbers\n",
    "\n",
    "#PBd = 0.5\n",
    "#PAd = 0.32\n",
    "\n",
    "#notice this is just a game theory matrix so must sum across row\n",
    "#PAd_Bd = 0.54\n",
    "#PAd_Bc = 0.57\n",
    "#PAc_Bc = 0.43\n",
    "#PAc_Bd = 0.46"
   ]
  },
  {
   "cell_type": "code",
   "execution_count": 7,
   "metadata": {
    "collapsed": false
   },
   "outputs": [],
   "source": [
    "# Read & Van Leeuwen\n",
    "\n",
    "PBd = 0.5 # probability hungry or not CHECK THIS!\n",
    "# PAd = 0.32 # probability unhealthy snack \n",
    "\n",
    "#notice this is just a game theory matrix so must sum across row\n",
    "PAd_Bd = .78\n",
    "PAd_Bc = .56\n",
    "PAc_Bc = .44\n",
    "PAc_Bd = (1 - .78)\n",
    "\n",
    "PAd = .9"
   ]
  },
  {
   "cell_type": "code",
   "execution_count": 8,
   "metadata": {
    "collapsed": true
   },
   "outputs": [],
   "source": [
    "# Read & Van Leeuwen REVISED\n",
    "\n",
    "PBd = 0.5 # probability hungry or not CHECK THIS!\n",
    "# PAd = 0.32 # probability unhealthy snack \n",
    "\n",
    "#notice this is just a game theory matrix so must sum across row\n",
    "PAd_Bd = .92\n",
    "PAd_Bc = .82\n",
    "PAc_Bc = .18\n",
    "PAc_Bd = (1 - .92)\n",
    "\n",
    "PAd = .99"
   ]
  },
  {
   "cell_type": "markdown",
   "metadata": {},
   "source": [
    "## Here's the game theory matrix:"
   ]
  },
  {
   "cell_type": "code",
   "execution_count": 9,
   "metadata": {
    "collapsed": false
   },
   "outputs": [
    {
     "data": {
      "text/plain": [
       "array([[ 0.18,  0.82],\n",
       "       [ 0.08,  0.92]])"
      ]
     },
     "execution_count": 9,
     "metadata": {},
     "output_type": "execute_result"
    }
   ],
   "source": [
    "gt_matrix = np.array([[PAc_Bc, PAd_Bc], \n",
    "                      [PAc_Bd, PAd_Bd]])\n",
    "gt_matrix"
   ]
  },
  {
   "cell_type": "markdown",
   "metadata": {},
   "source": [
    "## Calculate P_t(A1)"
   ]
  },
  {
   "cell_type": "code",
   "execution_count": 10,
   "metadata": {
    "collapsed": false
   },
   "outputs": [
    {
     "data": {
      "text/plain": [
       "0.87"
      ]
     },
     "execution_count": 10,
     "metadata": {},
     "output_type": "execute_result"
    }
   ],
   "source": [
    "P_tA1 =  PBd*PAd_Bd + (1 - PBd) * PAd_Bc\n",
    "P_tA1"
   ]
  },
  {
   "cell_type": "markdown",
   "metadata": {},
   "source": [
    "## Now calculate δ (interference) term"
   ]
  },
  {
   "cell_type": "code",
   "execution_count": 11,
   "metadata": {
    "collapsed": false
   },
   "outputs": [
    {
     "data": {
      "text/plain": [
       "(0.12, -0.12)"
      ]
     },
     "execution_count": 11,
     "metadata": {},
     "output_type": "execute_result"
    }
   ],
   "source": [
    "d1 = PAd - P_tA1\n",
    "d2 = -d1\n",
    "d1, d2"
   ]
  },
  {
   "cell_type": "code",
   "execution_count": 12,
   "metadata": {
    "collapsed": false
   },
   "outputs": [
    {
     "data": {
      "text/plain": [
       "(1.4321935867510316, nan)"
      ]
     },
     "execution_count": 12,
     "metadata": {},
     "output_type": "execute_result"
    }
   ],
   "source": [
    "#=ACOS(B14/(2*SQRT(B4*B3*B5*0.46)))\n",
    "theta_d1 = np.arccos(d1/(2*np.sqrt(PAd_Bd*PBd*PAd_Bc*(1-PBd))))\n",
    "theta_d2 = np.arccos(d2/(2*np.sqrt(PAc_Bd*PBd*PAc_Bc*(1-PBd))))\n",
    "theta_d1, theta_d2"
   ]
  },
  {
   "cell_type": "markdown",
   "metadata": {},
   "source": [
    "## V Matrix:\n"
   ]
  },
  {
   "cell_type": "code",
   "execution_count": 13,
   "metadata": {
    "collapsed": false
   },
   "outputs": [
    {
     "data": {
      "text/plain": [
       "array([[ 0.9591663+0.j        ,  1.0436979+0.99041001j],\n",
       "       [       nan       +nanj,  0.1800000+0.j        ]])"
      ]
     },
     "execution_count": 13,
     "metadata": {},
     "output_type": "execute_result"
    }
   ],
   "source": [
    "V = np.array([[np.sqrt(PAd_Bd), np.sqrt(PAd_Bc) + np.exp(np.complex(0, theta_d1))],\n",
    "             [np.sqrt(PAc_Bd) + np.exp(np.complex(0, theta_d2)), PAc_Bc]])\n",
    "V"
   ]
  },
  {
   "cell_type": "markdown",
   "metadata": {},
   "source": [
    "## set  (Bd|s), (Bc|s)"
   ]
  },
  {
   "cell_type": "code",
   "execution_count": 14,
   "metadata": {
    "collapsed": false
   },
   "outputs": [
    {
     "data": {
      "text/plain": [
       "(0.70710678118654757, 0.70710678118654757)"
      ]
     },
     "execution_count": 14,
     "metadata": {},
     "output_type": "execute_result"
    }
   ],
   "source": [
    "Bd_S = np.sqrt(PBd)\n",
    "Bc_S = np.sqrt(1 - PBd)\n",
    "Bd_S, Bc_S"
   ]
  },
  {
   "cell_type": "markdown",
   "metadata": {},
   "source": [
    "## Calculate Psi"
   ]
  },
  {
   "cell_type": "code",
   "execution_count": 15,
   "metadata": {
    "collapsed": false
   },
   "outputs": [
    {
     "data": {
      "text/plain": [
       "((0.76669817200546508+0.63417183242673136j), (nan+nan*j))"
      ]
     },
     "execution_count": 15,
     "metadata": {},
     "output_type": "execute_result"
    }
   ],
   "source": [
    "AdS = np.sqrt(PAd_Bd*PBd) + np.sqrt(PAd_Bc*(1-PBd)) * np.exp(complex(0, theta_d1))\n",
    "AcS =  np.sqrt(PAc_Bd*PBd) * np.exp(complex(0, theta_d2)) + np.sqrt(PAc_Bc*(1-PBd))\n",
    "AdS,  AcS"
   ]
  },
  {
   "cell_type": "markdown",
   "metadata": {},
   "source": [
    "## Take conjugate, multiply to get result"
   ]
  },
  {
   "cell_type": "code",
   "execution_count": 16,
   "metadata": {
    "collapsed": false
   },
   "outputs": [
    {
     "data": {
      "text/plain": [
       "(array(0.99), array(nan))"
      ]
     },
     "execution_count": 16,
     "metadata": {},
     "output_type": "execute_result"
    }
   ],
   "source": [
    "AdS_squared = np.conj(AdS) * AdS\n",
    "AcS_squared = np.conj(AcS) * AcS\n",
    "np.real(AdS_squared), np.real(AcS_squared)\n"
   ]
  },
  {
   "cell_type": "markdown",
   "metadata": {},
   "source": [
    "Some psudonotes on applying to projection bias:\n",
    "(paper: https://www.sciencedirect.com/science/article/pii/S0749597898928035)\n",
    "\n"
   ]
  },
  {
   "cell_type": "code",
   "execution_count": 19,
   "metadata": {
    "collapsed": false
   },
   "outputs": [],
   "source": [
    "# Quantum Cognition applied to Read & Van Leeuwen experiement\n",
    "\n",
    "PAplus_C = 0.5\n",
    "PAminus_C = 1 - PAplus_C\n",
    "\n",
    "PBplus = (.78 + .56 + .42 + .26) / 2\n",
    "PBminus = 1 - PBplus\n",
    "# PAd = 0.32 # probability unhealthy snack \n",
    "\n",
    "#notice this is just a game theory matrix so must sum across row\n",
    "Ppp = (.92 + .88) / 2\n",
    "Ppm = (.82 + .70) / 2\n",
    "Pmp = 1 - Ppp\n",
    "Pmm = 1 - Ppm"
   ]
  },
  {
   "cell_type": "code",
   "execution_count": 20,
   "metadata": {
    "collapsed": false
   },
   "outputs": [
    {
     "data": {
      "text/plain": [
       "array([[ 0.9 ,  0.76],\n",
       "       [ 0.1 ,  0.24]])"
      ]
     },
     "execution_count": 20,
     "metadata": {},
     "output_type": "execute_result"
    }
   ],
   "source": [
    "gt_matrix = np.array([[Ppp, Ppm], \n",
    "                      [Pmp, Pmm]])\n",
    "gt_matrix"
   ]
  },
  {
   "cell_type": "code",
   "execution_count": 21,
   "metadata": {
    "collapsed": false
   },
   "outputs": [
    {
     "data": {
      "text/plain": [
       "0.18000000000000005"
      ]
     },
     "execution_count": 21,
     "metadata": {},
     "output_type": "execute_result"
    }
   ],
   "source": [
    "delta_plus = PBplus - PAplus_C * Ppp - PAminus_C * Ppm\n",
    "delta_plus"
   ]
  },
  {
   "cell_type": "code",
   "execution_count": 22,
   "metadata": {
    "collapsed": false
   },
   "outputs": [
    {
     "data": {
      "text/plain": [
       "-0.18"
      ]
     },
     "execution_count": 22,
     "metadata": {},
     "output_type": "execute_result"
    }
   ],
   "source": [
    "delta_minus = PBminus - PAplus_C * Pmp - PAminus_C * Pmm\n",
    "delta_minus"
   ]
  },
  {
   "cell_type": "code",
   "execution_count": 39,
   "metadata": {
    "collapsed": false
   },
   "outputs": [
    {
     "data": {
      "text/plain": [
       "0.171"
      ]
     },
     "execution_count": 39,
     "metadata": {},
     "output_type": "execute_result"
    }
   ],
   "source": [
    "pi_plus = PAplus_C * PAminus_C * Ppp*Ppm\n",
    "pi_plus"
   ]
  },
  {
   "cell_type": "code",
   "execution_count": 40,
   "metadata": {
    "collapsed": false
   },
   "outputs": [
    {
     "data": {
      "text/plain": [
       "0.005999999999999998"
      ]
     },
     "execution_count": 40,
     "metadata": {},
     "output_type": "execute_result"
    }
   ],
   "source": [
    "pi_minus = PAplus_C * PAminus_C * Pmp * Pmm\n",
    "pi_minus"
   ]
  },
  {
   "cell_type": "code",
   "execution_count": 41,
   "metadata": {
    "collapsed": false
   },
   "outputs": [
    {
     "data": {
      "text/plain": [
       "0.21764287503300356"
      ]
     },
     "execution_count": 41,
     "metadata": {},
     "output_type": "execute_result"
    }
   ],
   "source": [
    "lambda_plus = delta_plus / (2*np.sqrt(pi_plus))\n",
    "lambda_plus"
   ]
  },
  {
   "cell_type": "code",
   "execution_count": 42,
   "metadata": {
    "collapsed": false
   },
   "outputs": [
    {
     "data": {
      "text/plain": [
       "-1.1618950038622253"
      ]
     },
     "execution_count": 42,
     "metadata": {},
     "output_type": "execute_result"
    }
   ],
   "source": [
    "lambda_minus = delta_minus / (2 * np.sqrt(pi_minus))\n",
    "lambda_minus"
   ]
  },
  {
   "cell_type": "code",
   "execution_count": 34,
   "metadata": {
    "collapsed": false
   },
   "outputs": [],
   "source": [
    "def arccos_or_archosh(x):\n",
    "    # Define this to deal with case that arccos is out of bounds\n",
    "    if np.abs(x) <= 1:\n",
    "        return np.arccos(x)\n",
    "    else:\n",
    "        return np.arccosh(np.abs(x))"
   ]
  },
  {
   "cell_type": "code",
   "execution_count": 35,
   "metadata": {
    "collapsed": false
   },
   "outputs": [
    {
     "data": {
      "text/plain": [
       "1.3513975258708031"
      ]
     },
     "execution_count": 35,
     "metadata": {},
     "output_type": "execute_result"
    }
   ],
   "source": [
    "theta_plus = arccos_or_archosh(lambda_plus)\n",
    "theta_plus"
   ]
  },
  {
   "cell_type": "code",
   "execution_count": 36,
   "metadata": {
    "collapsed": false
   },
   "outputs": [
    {
     "data": {
      "text/plain": [
       "0.56161549129364841"
      ]
     },
     "execution_count": 36,
     "metadata": {},
     "output_type": "execute_result"
    }
   ],
   "source": [
    "theta_minus = arccos_or_archosh(lambda_minus)\n",
    "theta_plus"
   ]
  }
 ],
 "metadata": {
  "anaconda-cloud": {},
  "kernelspec": {
   "display_name": "Python [conda env:anaconda3]",
   "language": "python",
   "name": "conda-env-anaconda3-py"
  },
  "language_info": {
   "codemirror_mode": {
    "name": "ipython",
    "version": 3
   },
   "file_extension": ".py",
   "mimetype": "text/x-python",
   "name": "python",
   "nbconvert_exporter": "python",
   "pygments_lexer": "ipython3",
   "version": "3.5.2"
  }
 },
 "nbformat": 4,
 "nbformat_minor": 1
}
