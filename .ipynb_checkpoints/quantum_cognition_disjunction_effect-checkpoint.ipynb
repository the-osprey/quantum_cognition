{
 "cells": [
  {
   "cell_type": "markdown",
   "metadata": {},
   "source": [
    "# Applying quantum cognition to address disjunction effect\n",
    "\n",
    "### _Here I look at a few studies in which quantum cognition explains disjunction paradoxes_"
   ]
  },
  {
   "cell_type": "code",
   "execution_count": 39,
   "metadata": {
    "collapsed": false
   },
   "outputs": [],
   "source": [
    "import csv\n",
    "import numpy as np\n",
    "import pandas as pd\n",
    "import matplotlib.pyplot as plt\n",
    "import zipfile\n",
    "from pathlib import Path\n"
   ]
  },
  {
   "cell_type": "markdown",
   "metadata": {},
   "source": [
    "## Insert Given Values from Study:"
   ]
  },
  {
   "cell_type": "code",
   "execution_count": 40,
   "metadata": {
    "collapsed": false
   },
   "outputs": [
    {
     "data": {
      "text/plain": [
       "'\\nPBd = 0.54\\nPAd = 0.225\\n\\n#notice this is just a game theory matrix so must sum across row\\nPAd_Bd = 0.68\\nPAd_Bc = 0.17\\nPAc_Bc = 0.83\\nPAc_Bd = 0.32\\n'"
      ]
     },
     "execution_count": 40,
     "metadata": {},
     "output_type": "execute_result"
    }
   ],
   "source": [
    "# Croson numbers\n",
    "\"\"\"\n",
    "PBd = 0.54\n",
    "PAd = 0.225\n",
    "\n",
    "#notice this is just a game theory matrix so must sum across row\n",
    "PAd_Bd = 0.68\n",
    "PAd_Bc = 0.17\n",
    "PAc_Bc = 0.83\n",
    "PAc_Bd = 0.32\n",
    "\"\"\""
   ]
  },
  {
   "cell_type": "code",
   "execution_count": 53,
   "metadata": {
    "collapsed": false
   },
   "outputs": [],
   "source": [
    "\n",
    "# Kahneman and Tversky numbers\n",
    "PBd = 0.5\n",
    "PAd = 0.36\n",
    "\n",
    "#notice this is just a game theory matrix so must sum across row\n",
    "PAd_Bd = 0.69\n",
    "PAd_Bc = 0.59\n",
    "PAc_Bc = 0.41\n",
    "PAc_Bd = 0.31\n"
   ]
  },
  {
   "cell_type": "code",
   "execution_count": 54,
   "metadata": {
    "collapsed": false
   },
   "outputs": [],
   "source": [
    "\n",
    "# Exam & Hawaii experiment numbers\n",
    "\n",
    "#PBd = 0.5\n",
    "#PAd = 0.32\n",
    "\n",
    "#notice this is just a game theory matrix so must sum across row\n",
    "#PAd_Bd = 0.54\n",
    "#PAd_Bc = 0.57\n",
    "#PAc_Bc = 0.43\n",
    "#PAc_Bd = 0.46"
   ]
  },
  {
   "cell_type": "code",
   "execution_count": 43,
   "metadata": {
    "collapsed": false
   },
   "outputs": [],
   "source": [
    "# Read & Van Leeuwen\n",
    "\n",
    "PBd = 0.5 # probability hungry or not CHECK THIS!\n",
    "# PAd = 0.32 # probability unhealthy snack \n",
    "\n",
    "#notice this is just a game theory matrix so must sum across row\n",
    "PAd_Bd = .78\n",
    "PAd_Bc = .56\n",
    "PAc_Bc = .44\n",
    "PAc_Bd = (1 - .78)\n",
    "\n",
    "PAd = .9"
   ]
  },
  {
   "cell_type": "markdown",
   "metadata": {},
   "source": [
    "## Here's the game theory matrix:"
   ]
  },
  {
   "cell_type": "code",
   "execution_count": 55,
   "metadata": {
    "collapsed": false
   },
   "outputs": [
    {
     "data": {
      "text/plain": [
       "array([[ 0.41,  0.59],\n",
       "       [ 0.31,  0.69]])"
      ]
     },
     "execution_count": 55,
     "metadata": {},
     "output_type": "execute_result"
    }
   ],
   "source": [
    "gt_matrix = np.array([[PAc_Bc, PAd_Bc], \n",
    "                      [PAc_Bd, PAd_Bd]])\n",
    "gt_matrix"
   ]
  },
  {
   "cell_type": "markdown",
   "metadata": {},
   "source": [
    "## Calculate P_t(A1)"
   ]
  },
  {
   "cell_type": "code",
   "execution_count": 56,
   "metadata": {
    "collapsed": false
   },
   "outputs": [
    {
     "data": {
      "text/plain": [
       "0.6399999999999999"
      ]
     },
     "execution_count": 56,
     "metadata": {},
     "output_type": "execute_result"
    }
   ],
   "source": [
    "P_tA1 =  PBd*PAd_Bd + (1 - PBd) * PAd_Bc\n",
    "P_tA1"
   ]
  },
  {
   "cell_type": "markdown",
   "metadata": {},
   "source": [
    "## Now calculate δ (interference) term"
   ]
  },
  {
   "cell_type": "code",
   "execution_count": 98,
   "metadata": {
    "collapsed": false
   },
   "outputs": [
    {
     "data": {
      "text/plain": [
       "(-0.2799999999999999, 0.2799999999999999)"
      ]
     },
     "execution_count": 98,
     "metadata": {},
     "output_type": "execute_result"
    }
   ],
   "source": [
    "d1 = PAd - P_tA1\n",
    "d2 = -d1\n",
    "d1, d2"
   ]
  },
  {
   "cell_type": "code",
   "execution_count": 93,
   "metadata": {
    "collapsed": false
   },
   "outputs": [
    {
     "data": {
      "text/plain": [
       "(1.2020173476537055, 2.2720049473427109)"
      ]
     },
     "execution_count": 93,
     "metadata": {},
     "output_type": "execute_result"
    }
   ],
   "source": [
    "#=ACOS(B14/(2*SQRT(B4*B3*B5*0.46)))\n",
    "theta_d1 = np.arccos(d1/(2*np.sqrt(PAd_Bd*PBd*PAd_Bc*(1-PBd))))\n",
    "theta_d2 = np.arccos(d2/(2*np.sqrt(PAc_Bd*PBd*PAc_Bc*(1-PBd))))\n",
    "theta_d1, theta_d2"
   ]
  },
  {
   "cell_type": "markdown",
   "metadata": {},
   "source": [
    "## V Matrix:\n"
   ]
  },
  {
   "cell_type": "code",
   "execution_count": 94,
   "metadata": {
    "collapsed": false
   },
   "outputs": [
    {
     "data": {
      "text/plain": [
       "array([[ 0.83066239+0.j        ,  1.12859135+0.93276819j],\n",
       "       [-0.08836518+0.76406301j,  0.41000000+0.j        ]])"
      ]
     },
     "execution_count": 94,
     "metadata": {},
     "output_type": "execute_result"
    }
   ],
   "source": [
    "V = np.array([[np.sqrt(PAd_Bd), np.sqrt(PAd_Bc) + np.exp(np.complex(0, theta_d1))],\n",
    "             [np.sqrt(PAc_Bd) + np.exp(np.complex(0, theta_d2)), PAc_Bc]])\n",
    "V"
   ]
  },
  {
   "cell_type": "markdown",
   "metadata": {},
   "source": [
    "## set  (Bd|s), (Bc|s)"
   ]
  },
  {
   "cell_type": "code",
   "execution_count": 95,
   "metadata": {
    "collapsed": false
   },
   "outputs": [
    {
     "data": {
      "text/plain": [
       "(0.70710678118654757, 0.70710678118654757)"
      ]
     },
     "execution_count": 95,
     "metadata": {},
     "output_type": "execute_result"
    }
   ],
   "source": [
    "Bd_S = np.sqrt(PBd)\n",
    "Bc_S = np.sqrt(1 - PBd)\n",
    "Bd_S, Bc_S"
   ]
  },
  {
   "cell_type": "markdown",
   "metadata": {},
   "source": [
    "## Calculate Psi"
   ]
  },
  {
   "cell_type": "code",
   "execution_count": 96,
   "metadata": {
    "collapsed": false
   },
   "outputs": [
    {
     "data": {
      "text/plain": [
       "((0.78315600829804877+0.50662280511902202j),\n",
       " (0.1987767469347238+0.30081190946843978j))"
      ]
     },
     "execution_count": 96,
     "metadata": {},
     "output_type": "execute_result"
    }
   ],
   "source": [
    "AdS = np.sqrt(PAd_Bd*PBd) + np.sqrt(PAd_Bc*(1-PBd)) * np.exp(complex(0, theta_d1))\n",
    "AcS =  np.sqrt(PAc_Bd*PBd) * np.exp(complex(0, theta_d2)) + np.sqrt(PAc_Bc*(1-PBd))\n",
    "AdS,  AcS"
   ]
  },
  {
   "cell_type": "markdown",
   "metadata": {},
   "source": [
    "## Take conjugate, multiply to get result"
   ]
  },
  {
   "cell_type": "code",
   "execution_count": 97,
   "metadata": {
    "collapsed": false
   },
   "outputs": [
    {
     "data": {
      "text/plain": [
       "(array(0.8699999999999999), array(0.13000000000000003))"
      ]
     },
     "execution_count": 97,
     "metadata": {},
     "output_type": "execute_result"
    }
   ],
   "source": [
    "AdS_squared = np.conj(AdS) * AdS\n",
    "AcS_squared = np.conj(AcS) * AcS\n",
    "np.real(AdS_squared), np.real(AcS_squared)\n"
   ]
  },
  {
   "cell_type": "markdown",
   "metadata": {},
   "source": [
    "Some psudonotes on applying to projection bias:\n",
    "(paper: https://www.sciencedirect.com/science/article/pii/S0749597898928035)\n",
    "\n"
   ]
  },
  {
   "cell_type": "code",
   "execution_count": 77,
   "metadata": {
    "collapsed": false
   },
   "outputs": [],
   "source": [
    "# Read & Van Leeuwen\n",
    "\n",
    "PAplus_C = 0.5\n",
    "PAminus_C = 1-PAplus_C\n",
    "PBplus = .9\n",
    "PBminus = .1\n",
    "# PAd = 0.32 # probability unhealthy snack \n",
    "\n",
    "#notice this is just a game theory matrix so must sum across row\n",
    "Ppp = .78\n",
    "Ppm = .56\n",
    "Pmp = .22\n",
    "Pmm = .44"
   ]
  },
  {
   "cell_type": "code",
   "execution_count": 78,
   "metadata": {
    "collapsed": false
   },
   "outputs": [
    {
     "data": {
      "text/plain": [
       "array([[ 0.78,  0.56],\n",
       "       [ 0.22,  0.44]])"
      ]
     },
     "execution_count": 78,
     "metadata": {},
     "output_type": "execute_result"
    }
   ],
   "source": [
    "gt_matrix = np.array([[Ppp, Ppm], \n",
    "                      [Pmp, Pmm]])\n",
    "gt_matrix"
   ]
  },
  {
   "cell_type": "code",
   "execution_count": 82,
   "metadata": {
    "collapsed": false
   },
   "outputs": [
    {
     "data": {
      "text/plain": [
       "0.22999999999999998"
      ]
     },
     "execution_count": 82,
     "metadata": {},
     "output_type": "execute_result"
    }
   ],
   "source": [
    "dplus = PBplus - PAplus_C * Ppp - PAminus_C * Ppm\n",
    "dplus"
   ]
  },
  {
   "cell_type": "code",
   "execution_count": 83,
   "metadata": {
    "collapsed": false
   },
   "outputs": [
    {
     "data": {
      "text/plain": [
       "-0.22999999999999998"
      ]
     },
     "execution_count": 83,
     "metadata": {},
     "output_type": "execute_result"
    }
   ],
   "source": [
    "dminus = PBminus - PAplus_C * Pmp - PAminus_C * Pmm\n",
    "dminus"
   ]
  },
  {
   "cell_type": "code",
   "execution_count": 84,
   "metadata": {
    "collapsed": false
   },
   "outputs": [
    {
     "data": {
      "text/plain": [
       "0.10920000000000002"
      ]
     },
     "execution_count": 84,
     "metadata": {},
     "output_type": "execute_result"
    }
   ],
   "source": [
    "Pip = PAplus_C * PAminus_C * Ppp*Ppm\n",
    "Pip"
   ]
  },
  {
   "cell_type": "code",
   "execution_count": 85,
   "metadata": {
    "collapsed": false
   },
   "outputs": [
    {
     "data": {
      "text/plain": [
       "0.0242"
      ]
     },
     "execution_count": 85,
     "metadata": {},
     "output_type": "execute_result"
    }
   ],
   "source": [
    "Pim = PAplus_C * PAminus_C * Pmp * Pmm\n",
    "Pim"
   ]
  },
  {
   "cell_type": "code",
   "execution_count": 87,
   "metadata": {
    "collapsed": false
   },
   "outputs": [
    {
     "data": {
      "text/plain": [
       "0.34800583128456136"
      ]
     },
     "execution_count": 87,
     "metadata": {},
     "output_type": "execute_result"
    }
   ],
   "source": [
    "Lp = dplus / (2*np.sqrt(Pip))\n",
    "Lp"
   ]
  },
  {
   "cell_type": "code",
   "execution_count": 88,
   "metadata": {
    "collapsed": false
   },
   "outputs": [
    {
     "data": {
      "text/plain": [
       "-0.73924799851320866"
      ]
     },
     "execution_count": 88,
     "metadata": {},
     "output_type": "execute_result"
    }
   ],
   "source": [
    "Lm = dminus / (2 * np.sqrt(Pim))\n",
    "Lm"
   ]
  },
  {
   "cell_type": "code",
   "execution_count": 90,
   "metadata": {
    "collapsed": false
   },
   "outputs": [
    {
     "data": {
      "text/plain": [
       "1.2153531958338908"
      ]
     },
     "execution_count": 90,
     "metadata": {},
     "output_type": "execute_result"
    }
   ],
   "source": [
    "Tp = np.arccos(Lp)\n",
    "Tp"
   ]
  },
  {
   "cell_type": "code",
   "execution_count": 91,
   "metadata": {
    "collapsed": false
   },
   "outputs": [
    {
     "data": {
      "text/plain": [
       "2.4027493315370041"
      ]
     },
     "execution_count": 91,
     "metadata": {},
     "output_type": "execute_result"
    }
   ],
   "source": [
    "Tm = np.arccos(Lm)\n",
    "Tm"
   ]
  }
 ],
 "metadata": {
  "anaconda-cloud": {},
  "kernelspec": {
   "display_name": "Python [conda env:anaconda3]",
   "language": "python",
   "name": "conda-env-anaconda3-py"
  },
  "language_info": {
   "codemirror_mode": {
    "name": "ipython",
    "version": 3
   },
   "file_extension": ".py",
   "mimetype": "text/x-python",
   "name": "python",
   "nbconvert_exporter": "python",
   "pygments_lexer": "ipython3",
   "version": "3.5.2"
  }
 },
 "nbformat": 4,
 "nbformat_minor": 1
}
