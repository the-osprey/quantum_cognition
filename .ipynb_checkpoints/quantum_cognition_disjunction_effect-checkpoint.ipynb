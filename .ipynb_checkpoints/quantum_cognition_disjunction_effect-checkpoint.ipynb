{
 "cells": [
  {
   "cell_type": "code",
   "execution_count": 10,
   "metadata": {
    "collapsed": false
   },
   "outputs": [],
   "source": [
    "import csv\n",
    "import numpy as np\n",
    "import pandas as pd\n",
    "import matplotlib.pyplot as plt\n",
    "import zipfile\n",
    "from pathlib import Path\n"
   ]
  },
  {
   "cell_type": "markdown",
   "metadata": {},
   "source": [
    "## Insert Given Values from Study:"
   ]
  },
  {
   "cell_type": "code",
   "execution_count": 11,
   "metadata": {
    "collapsed": true
   },
   "outputs": [],
   "source": [
    "PBd = 0.54\n",
    "PAd = 0.225\n",
    "\n",
    "#notice this is just a game theory matrix so must sum across row\n",
    "PAd_Bd = 0.68\n",
    "PAd_Bc = 0.17\n",
    "PAc_Bc = 0.83\n",
    "PAc_Bd = 0.32\n"
   ]
  },
  {
   "cell_type": "markdown",
   "metadata": {},
   "source": [
    "## Here's the game theory matrix:"
   ]
  },
  {
   "cell_type": "code",
   "execution_count": 12,
   "metadata": {
    "collapsed": false
   },
   "outputs": [
    {
     "data": {
      "text/plain": [
       "array([[ 0.83,  0.17],\n",
       "       [ 0.32,  0.68]])"
      ]
     },
     "execution_count": 12,
     "metadata": {},
     "output_type": "execute_result"
    }
   ],
   "source": [
    "gt_matrix = np.array([[PAc_Bc, PAd_Bc], \n",
    "                      [PAc_Bd, PAd_Bd]])\n",
    "gt_matrix"
   ]
  },
  {
   "cell_type": "markdown",
   "metadata": {},
   "source": [
    "## Calculate P_t(A1)"
   ]
  },
  {
   "cell_type": "code",
   "execution_count": 13,
   "metadata": {
    "collapsed": false
   },
   "outputs": [
    {
     "data": {
      "text/plain": [
       "0.4454"
      ]
     },
     "execution_count": 13,
     "metadata": {},
     "output_type": "execute_result"
    }
   ],
   "source": [
    "P_tA1 =  PBd*PAd_Bd + (1 - PBd) * PAd_Bc\n",
    "P_tA1"
   ]
  },
  {
   "cell_type": "markdown",
   "metadata": {},
   "source": [
    "## Now calculate δ (interference) term"
   ]
  },
  {
   "cell_type": "code",
   "execution_count": 14,
   "metadata": {
    "collapsed": false
   },
   "outputs": [
    {
     "data": {
      "text/plain": [
       "(-0.2204, 0.2204)"
      ]
     },
     "execution_count": 14,
     "metadata": {},
     "output_type": "execute_result"
    }
   ],
   "source": [
    "d1 = PAd - P_tA1\n",
    "d2 = -d1\n",
    "d1, d2"
   ]
  },
  {
   "cell_type": "code",
   "execution_count": 30,
   "metadata": {
    "collapsed": false
   },
   "outputs": [
    {
     "data": {
      "text/plain": [
       "(2.2788014774277738, 1.1273731898165016)"
      ]
     },
     "execution_count": 30,
     "metadata": {},
     "output_type": "execute_result"
    }
   ],
   "source": [
    "#=ACOS(B14/(2*SQRT(B4*B3*B5*0.46)))\n",
    "theta_d1 = np.arccos(d1/(2*np.sqrt(PAd_Bd*PBd*PAd_Bc*.46)))\n",
    "theta_d2 = np.arccos(d2/(2*np.sqrt(PAc_Bd*PBd*PAc_Bc*.46)))\n",
    "theta_d1, theta_d2"
   ]
  },
  {
   "cell_type": "markdown",
   "metadata": {},
   "source": [
    "## V Matrix:\n"
   ]
  },
  {
   "cell_type": "code",
   "execution_count": 46,
   "metadata": {
    "collapsed": false
   },
   "outputs": [
    {
     "data": {
      "text/plain": [
       "array([[ 0.82462113+0.j        , -0.23800909+0.75966068j],\n",
       "       [ 0.99471948+0.90328832j,  0.83000000+0.j        ]])"
      ]
     },
     "execution_count": 46,
     "metadata": {},
     "output_type": "execute_result"
    }
   ],
   "source": [
    "V = np.array([[np.sqrt(PAd_Bd), np.sqrt(PAd_Bc) + np.exp(np.complex(0, theta_d1))],\n",
    "             [np.sqrt(PAc_Bd) + np.exp(np.complex(0, theta_d2)), PAc_Bc]])\n",
    "V"
   ]
  },
  {
   "cell_type": "markdown",
   "metadata": {},
   "source": [
    "## set  (Bd|s), (Bc|s)"
   ]
  },
  {
   "cell_type": "code",
   "execution_count": 52,
   "metadata": {
    "collapsed": false
   },
   "outputs": [
    {
     "data": {
      "text/plain": [
       "(0.73484692283495345, 0.67823299831252681)"
      ]
     },
     "execution_count": 52,
     "metadata": {},
     "output_type": "execute_result"
    }
   ],
   "source": [
    "Bd_S = np.sqrt(PBd)\n",
    "Bc_S = np.sqrt(1-PBd)\n",
    "Bd_S, Bc_S"
   ]
  },
  {
   "cell_type": "markdown",
   "metadata": {},
   "source": [
    "## Calculate Psi"
   ]
  },
  {
   "cell_type": "code",
   "execution_count": 57,
   "metadata": {
    "collapsed": false
   },
   "outputs": [
    {
     "data": {
      "text/plain": [
       "((0.42411319757500887+0.21243350875674377j),\n",
       " (0.79624577467171287+0.37548990175162328j))"
      ]
     },
     "execution_count": 57,
     "metadata": {},
     "output_type": "execute_result"
    }
   ],
   "source": [
    "AdS = np.sqrt(PAd_Bd*.54) + np.sqrt(PAd_Bc*.46) * np.exp(complex(0, theta_d1))\n",
    "AcS =  np.sqrt(PAc_Bd*.54) * np.exp(complex(0, theta_d2)) + np.sqrt(PAc_Bc*.46)\n",
    "AdS,  AcS"
   ]
  },
  {
   "cell_type": "markdown",
   "metadata": {},
   "source": [
    "## Take conjugate, multiply to get result"
   ]
  },
  {
   "cell_type": "code",
   "execution_count": 66,
   "metadata": {
    "collapsed": false
   },
   "outputs": [
    {
     "data": {
      "text/plain": [
       "((0.22500000000000003+0j), (0.7749999999999998+0j))"
      ]
     },
     "execution_count": 66,
     "metadata": {},
     "output_type": "execute_result"
    }
   ],
   "source": [
    "AdS_squared = np.conj(AdS) * AdS\n",
    "AcS_squared = np.conj(AcS) * AcS\n",
    "AdS_squared, AcS_squared\n"
   ]
  },
  {
   "cell_type": "code",
   "execution_count": null,
   "metadata": {
    "collapsed": true
   },
   "outputs": [],
   "source": []
  },
  {
   "cell_type": "code",
   "execution_count": null,
   "metadata": {
    "collapsed": true
   },
   "outputs": [],
   "source": []
  }
 ],
 "metadata": {
  "anaconda-cloud": {},
  "kernelspec": {
   "display_name": "Python [conda env:anaconda3]",
   "language": "python",
   "name": "conda-env-anaconda3-py"
  },
  "language_info": {
   "codemirror_mode": {
    "name": "ipython",
    "version": 3
   },
   "file_extension": ".py",
   "mimetype": "text/x-python",
   "name": "python",
   "nbconvert_exporter": "python",
   "pygments_lexer": "ipython3",
   "version": "3.5.2"
  }
 },
 "nbformat": 4,
 "nbformat_minor": 1
}
