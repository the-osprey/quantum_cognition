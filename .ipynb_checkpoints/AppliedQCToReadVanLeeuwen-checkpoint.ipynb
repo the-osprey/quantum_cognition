{
 "cells": [
  {
   "cell_type": "code",
   "execution_count": 47,
   "metadata": {
    "collapsed": true
   },
   "outputs": [],
   "source": [
    "import numpy as np\n",
    "import pandas as pd\n",
    "import matplotlib.pyplot as plt"
   ]
  },
  {
   "cell_type": "code",
   "execution_count": 48,
   "metadata": {
    "collapsed": false
   },
   "outputs": [],
   "source": [
    "# Why not split by initial categories (Hungry a week in advance, etc.)\n",
    "\n",
    "# Quantum Cognition applied to Read & Van Leeuwen experiement\n",
    "# See PDF for information on their study\n",
    "\n",
    "# Probability of being in one group or the other\n",
    "PAplus_C = 0.5\n",
    "PAminus_C = 1 - PAplus_C\n",
    "\n",
    "# This is the median of all 4 advance columns\n",
    "PBplus = (.78 + .56) / 2\n",
    "PBminus = 1 - PBplus\n",
    "\n",
    "# This is the transition matrix\n",
    "Ppp = .92\n",
    "Ppm = .88\n",
    "Pmp = 1 - Ppp\n",
    "Pmm = 1 - Ppm"
   ]
  },
  {
   "cell_type": "code",
   "execution_count": 49,
   "metadata": {
    "collapsed": false
   },
   "outputs": [
    {
     "data": {
      "text/plain": [
       "array([[ 0.92,  0.88],\n",
       "       [ 0.08,  0.12]])"
      ]
     },
     "execution_count": 49,
     "metadata": {},
     "output_type": "execute_result"
    }
   ],
   "source": [
    "transition_matrix = np.array([[Ppp, Ppm], \n",
    "                      [Pmp, Pmm]])\n",
    "transition_matrix"
   ]
  },
  {
   "cell_type": "code",
   "execution_count": 50,
   "metadata": {
    "collapsed": false
   },
   "outputs": [
    {
     "data": {
      "text/plain": [
       "-0.22999999999999998"
      ]
     },
     "execution_count": 50,
     "metadata": {},
     "output_type": "execute_result"
    }
   ],
   "source": [
    "delta_plus = PBplus - PAplus_C * Ppp - PAminus_C * Ppm\n",
    "delta_plus"
   ]
  },
  {
   "cell_type": "code",
   "execution_count": 51,
   "metadata": {
    "collapsed": false
   },
   "outputs": [
    {
     "data": {
      "text/plain": [
       "0.22999999999999998"
      ]
     },
     "execution_count": 51,
     "metadata": {},
     "output_type": "execute_result"
    }
   ],
   "source": [
    "delta_minus = PBminus - PAplus_C * Pmp - PAminus_C * Pmm\n",
    "delta_minus"
   ]
  },
  {
   "cell_type": "code",
   "execution_count": 52,
   "metadata": {
    "collapsed": false
   },
   "outputs": [
    {
     "data": {
      "text/plain": [
       "0.2024"
      ]
     },
     "execution_count": 52,
     "metadata": {},
     "output_type": "execute_result"
    }
   ],
   "source": [
    "pi_plus = PAplus_C * PAminus_C * Ppp*Ppm\n",
    "pi_plus"
   ]
  },
  {
   "cell_type": "code",
   "execution_count": 53,
   "metadata": {
    "collapsed": false
   },
   "outputs": [
    {
     "data": {
      "text/plain": [
       "0.002399999999999999"
      ]
     },
     "execution_count": 53,
     "metadata": {},
     "output_type": "execute_result"
    }
   ],
   "source": [
    "pi_minus = PAplus_C * PAminus_C * Pmp * Pmm\n",
    "pi_minus"
   ]
  },
  {
   "cell_type": "code",
   "execution_count": 54,
   "metadata": {
    "collapsed": false
   },
   "outputs": [
    {
     "data": {
      "text/plain": [
       "-0.25561867907277253"
      ]
     },
     "execution_count": 54,
     "metadata": {},
     "output_type": "execute_result"
    }
   ],
   "source": [
    "lambda_plus = delta_plus / (2*np.sqrt(pi_plus))\n",
    "lambda_plus"
   ]
  },
  {
   "cell_type": "code",
   "execution_count": 55,
   "metadata": {
    "collapsed": false
   },
   "outputs": [
    {
     "data": {
      "text/plain": [
       "2.3474276701672125"
      ]
     },
     "execution_count": 55,
     "metadata": {},
     "output_type": "execute_result"
    }
   ],
   "source": [
    "lambda_minus = delta_minus / (2 * np.sqrt(pi_minus))\n",
    "lambda_minus"
   ]
  },
  {
   "cell_type": "code",
   "execution_count": 56,
   "metadata": {
    "collapsed": true
   },
   "outputs": [],
   "source": [
    "def arccos_or_archosh(x):\n",
    "    # Define this to deal with case that arccos is out of bounds\n",
    "    if np.abs(x) <= 1:\n",
    "        return np.arccos(x)\n",
    "    else:\n",
    "        return np.arccosh(np.abs(x))"
   ]
  },
  {
   "cell_type": "code",
   "execution_count": 57,
   "metadata": {
    "collapsed": false
   },
   "outputs": [
    {
     "data": {
      "text/plain": [
       "1.8292839152548994"
      ]
     },
     "execution_count": 57,
     "metadata": {},
     "output_type": "execute_result"
    }
   ],
   "source": [
    "theta_plus = arccos_or_archosh(lambda_plus)\n",
    "theta_plus"
   ]
  },
  {
   "cell_type": "code",
   "execution_count": 58,
   "metadata": {
    "collapsed": false
   },
   "outputs": [
    {
     "data": {
      "text/plain": [
       "1.4976572374533901"
      ]
     },
     "execution_count": 58,
     "metadata": {},
     "output_type": "execute_result"
    }
   ],
   "source": [
    "theta_minus = arccos_or_archosh(lambda_minus)\n",
    "theta_minus"
   ]
  },
  {
   "cell_type": "code",
   "execution_count": 59,
   "metadata": {
    "collapsed": true
   },
   "outputs": [],
   "source": [
    "# Why not split by initial categories (Hungry a week in advance, etc.)\n",
    "# INITIAL SATIATED STATE!\n",
    "\n",
    "# Quantum Cognition applied to Read & Van Leeuwen experiement\n",
    "# See PDF for information on their study\n",
    "\n",
    "# Probability of being in one group or the other\n",
    "PAplus_C = 0.5\n",
    "PAminus_C = 1 - PAplus_C\n",
    "\n",
    "# This is the median of all 4 advance columns\n",
    "PBplus = (.42 + .26) / 2\n",
    "PBminus = 1 - PBplus\n",
    "\n",
    "# This is the transition matrix\n",
    "Ppp = .82\n",
    "Ppm = .70\n",
    "Pmp = 1 - Ppp\n",
    "Pmm = 1 - Ppm"
   ]
  },
  {
   "cell_type": "code",
   "execution_count": 60,
   "metadata": {
    "collapsed": false
   },
   "outputs": [
    {
     "data": {
      "text/plain": [
       "array([[ 0.82,  0.7 ],\n",
       "       [ 0.18,  0.3 ]])"
      ]
     },
     "execution_count": 60,
     "metadata": {},
     "output_type": "execute_result"
    }
   ],
   "source": [
    "transition_matrix = np.array([[Ppp, Ppm], \n",
    "                      [Pmp, Pmm]])\n",
    "transition_matrix"
   ]
  },
  {
   "cell_type": "code",
   "execution_count": 61,
   "metadata": {
    "collapsed": false
   },
   "outputs": [
    {
     "data": {
      "text/plain": [
       "-0.42"
      ]
     },
     "execution_count": 61,
     "metadata": {},
     "output_type": "execute_result"
    }
   ],
   "source": [
    "delta_plus = PBplus - PAplus_C * Ppp - PAminus_C * Ppm\n",
    "delta_plus"
   ]
  },
  {
   "cell_type": "code",
   "execution_count": 62,
   "metadata": {
    "collapsed": false
   },
   "outputs": [
    {
     "data": {
      "text/plain": [
       "0.42000000000000004"
      ]
     },
     "execution_count": 62,
     "metadata": {},
     "output_type": "execute_result"
    }
   ],
   "source": [
    "delta_minus = PBminus - PAplus_C * Pmp - PAminus_C * Pmm\n",
    "delta_minus"
   ]
  },
  {
   "cell_type": "code",
   "execution_count": 63,
   "metadata": {
    "collapsed": false
   },
   "outputs": [
    {
     "data": {
      "text/plain": [
       "0.1435"
      ]
     },
     "execution_count": 63,
     "metadata": {},
     "output_type": "execute_result"
    }
   ],
   "source": [
    "pi_plus = PAplus_C * PAminus_C * Ppp*Ppm\n",
    "pi_plus"
   ]
  },
  {
   "cell_type": "code",
   "execution_count": 64,
   "metadata": {
    "collapsed": false
   },
   "outputs": [
    {
     "data": {
      "text/plain": [
       "0.013500000000000005"
      ]
     },
     "execution_count": 64,
     "metadata": {},
     "output_type": "execute_result"
    }
   ],
   "source": [
    "pi_minus = PAplus_C * PAminus_C * Pmp * Pmm\n",
    "pi_minus"
   ]
  },
  {
   "cell_type": "code",
   "execution_count": 65,
   "metadata": {
    "collapsed": false
   },
   "outputs": [
    {
     "data": {
      "text/plain": [
       "-0.55436186121587738"
      ]
     },
     "execution_count": 65,
     "metadata": {},
     "output_type": "execute_result"
    }
   ],
   "source": [
    "lambda_plus = delta_plus / (2*np.sqrt(pi_plus))\n",
    "lambda_plus"
   ]
  },
  {
   "cell_type": "code",
   "execution_count": 66,
   "metadata": {
    "collapsed": false
   },
   "outputs": [
    {
     "data": {
      "text/plain": [
       "1.8073922282301278"
      ]
     },
     "execution_count": 66,
     "metadata": {},
     "output_type": "execute_result"
    }
   ],
   "source": [
    "lambda_minus = delta_minus / (2 * np.sqrt(pi_minus))\n",
    "lambda_minus"
   ]
  },
  {
   "cell_type": "code",
   "execution_count": 67,
   "metadata": {
    "collapsed": false
   },
   "outputs": [
    {
     "data": {
      "text/plain": [
       "2.1583923573569588"
      ]
     },
     "execution_count": 67,
     "metadata": {},
     "output_type": "execute_result"
    }
   ],
   "source": [
    "theta_plus = arccos_or_archosh(lambda_plus)\n",
    "theta_plus"
   ]
  },
  {
   "cell_type": "code",
   "execution_count": 68,
   "metadata": {
    "collapsed": false
   },
   "outputs": [
    {
     "data": {
      "text/plain": [
       "1.8073922282301278"
      ]
     },
     "execution_count": 68,
     "metadata": {},
     "output_type": "execute_result"
    }
   ],
   "source": [
    "lambda_minus = delta_minus / (2 * np.sqrt(pi_minus))\n",
    "lambda_minus"
   ]
  },
  {
   "cell_type": "code",
   "execution_count": null,
   "metadata": {
    "collapsed": true
   },
   "outputs": [],
   "source": []
  }
 ],
 "metadata": {
  "anaconda-cloud": {},
  "kernelspec": {
   "display_name": "Python [conda env:anaconda3]",
   "language": "python",
   "name": "conda-env-anaconda3-py"
  },
  "language_info": {
   "codemirror_mode": {
    "name": "ipython",
    "version": 3
   },
   "file_extension": ".py",
   "mimetype": "text/x-python",
   "name": "python",
   "nbconvert_exporter": "python",
   "pygments_lexer": "ipython3",
   "version": "3.5.2"
  }
 },
 "nbformat": 4,
 "nbformat_minor": 1
}
