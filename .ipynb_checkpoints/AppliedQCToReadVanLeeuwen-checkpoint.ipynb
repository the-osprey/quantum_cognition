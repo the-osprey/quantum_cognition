{
 "cells": [
  {
   "cell_type": "code",
   "execution_count": 20,
   "metadata": {
    "collapsed": true
   },
   "outputs": [],
   "source": [
    "import numpy as np\n",
    "import pandas as pd\n",
    "import matplotlib.pyplot as plt"
   ]
  },
  {
   "cell_type": "code",
   "execution_count": 21,
   "metadata": {
    "collapsed": false
   },
   "outputs": [],
   "source": [
    "# Why not split by initial categories (Hungry a week in advance, etc.)\n",
    "\n",
    "# Quantum Cognition applied to Read & Van Leeuwen experiement\n",
    "# See PDF for information on their study\n",
    "\n",
    "# Probability of being in one group or the other\n",
    "PAplus_C = 0.5\n",
    "PAminus_C = 1 - PAplus_C\n",
    "\n",
    "# This is the median of all 4 advance columns\n",
    "PBplus = (.78 + .42) / 2\n",
    "PBminus = 1 - PBplus\n",
    "\n",
    "# This is the transition matrix\n",
    "Ppp = .92\n",
    "Ppm = .82\n",
    "Pmp = 1 - Ppp\n",
    "Pmm = 1 - Ppm"
   ]
  },
  {
   "cell_type": "code",
   "execution_count": 22,
   "metadata": {
    "collapsed": false
   },
   "outputs": [
    {
     "data": {
      "text/plain": [
       "array([[ 0.92,  0.82],\n",
       "       [ 0.08,  0.18]])"
      ]
     },
     "execution_count": 22,
     "metadata": {},
     "output_type": "execute_result"
    }
   ],
   "source": [
    "transition_matrix = np.array([[Ppp, Ppm], \n",
    "                      [Pmp, Pmm]])\n",
    "transition_matrix"
   ]
  },
  {
   "cell_type": "code",
   "execution_count": 23,
   "metadata": {
    "collapsed": false
   },
   "outputs": [
    {
     "data": {
      "text/plain": [
       "-0.27"
      ]
     },
     "execution_count": 23,
     "metadata": {},
     "output_type": "execute_result"
    }
   ],
   "source": [
    "delta_plus = PBplus - PAplus_C * Ppp - PAminus_C * Ppm\n",
    "delta_plus"
   ]
  },
  {
   "cell_type": "code",
   "execution_count": 24,
   "metadata": {
    "collapsed": false
   },
   "outputs": [
    {
     "data": {
      "text/plain": [
       "0.27"
      ]
     },
     "execution_count": 24,
     "metadata": {},
     "output_type": "execute_result"
    }
   ],
   "source": [
    "delta_minus = PBminus - PAplus_C * Pmp - PAminus_C * Pmm\n",
    "delta_minus"
   ]
  },
  {
   "cell_type": "code",
   "execution_count": 25,
   "metadata": {
    "collapsed": false
   },
   "outputs": [
    {
     "data": {
      "text/plain": [
       "0.1886"
      ]
     },
     "execution_count": 25,
     "metadata": {},
     "output_type": "execute_result"
    }
   ],
   "source": [
    "pi_plus = PAplus_C * PAminus_C * Ppp*Ppm\n",
    "pi_plus"
   ]
  },
  {
   "cell_type": "code",
   "execution_count": 26,
   "metadata": {
    "collapsed": false
   },
   "outputs": [
    {
     "data": {
      "text/plain": [
       "0.003599999999999999"
      ]
     },
     "execution_count": 26,
     "metadata": {},
     "output_type": "execute_result"
    }
   ],
   "source": [
    "pi_minus = PAplus_C * PAminus_C * Pmp * Pmm\n",
    "pi_minus"
   ]
  },
  {
   "cell_type": "code",
   "execution_count": 27,
   "metadata": {
    "collapsed": false
   },
   "outputs": [
    {
     "data": {
      "text/plain": [
       "-0.31085862686449023"
      ]
     },
     "execution_count": 27,
     "metadata": {},
     "output_type": "execute_result"
    }
   ],
   "source": [
    "lambda_plus = delta_plus / (2*np.sqrt(pi_plus))\n",
    "lambda_plus"
   ]
  },
  {
   "cell_type": "code",
   "execution_count": 28,
   "metadata": {
    "collapsed": false
   },
   "outputs": [
    {
     "data": {
      "text/plain": [
       "2.2500000000000004"
      ]
     },
     "execution_count": 28,
     "metadata": {},
     "output_type": "execute_result"
    }
   ],
   "source": [
    "lambda_minus = delta_minus / (2 * np.sqrt(pi_minus))\n",
    "lambda_minus"
   ]
  },
  {
   "cell_type": "code",
   "execution_count": 32,
   "metadata": {
    "collapsed": true
   },
   "outputs": [],
   "source": [
    "def arccos_or_archosh(x):\n",
    "    # Define this to deal with case that arccos is out of bounds\n",
    "    if np.abs(x) <= 1:\n",
    "        return np.arccos(x)\n",
    "    else:\n",
    "        print('using arcosh!')\n",
    "        return np.arccosh(np.abs(x))"
   ]
  },
  {
   "cell_type": "code",
   "execution_count": 33,
   "metadata": {
    "collapsed": false
   },
   "outputs": [
    {
     "data": {
      "text/plain": [
       "1.886892609914155"
      ]
     },
     "execution_count": 33,
     "metadata": {},
     "output_type": "execute_result"
    }
   ],
   "source": [
    "theta_plus = arccos_or_archosh(lambda_plus)\n",
    "theta_plus"
   ]
  },
  {
   "cell_type": "code",
   "execution_count": 34,
   "metadata": {
    "collapsed": false
   },
   "outputs": [
    {
     "name": "stdout",
     "output_type": "stream",
     "text": [
      "using arcosh!\n"
     ]
    },
    {
     "data": {
      "text/plain": [
       "1.4505745138225803"
      ]
     },
     "execution_count": 34,
     "metadata": {},
     "output_type": "execute_result"
    }
   ],
   "source": [
    "theta_minus = arccos_or_archosh(lambda_minus)\n",
    "theta_minus"
   ]
  },
  {
   "cell_type": "code",
   "execution_count": 35,
   "metadata": {
    "collapsed": true
   },
   "outputs": [],
   "source": [
    "# Why not split by initial categories (Hungry a week in advance, etc.)\n",
    "# INITIAL SATIATED STATE!\n",
    "\n",
    "# Quantum Cognition applied to Read & Van Leeuwen experiement\n",
    "# See PDF for information on their study\n",
    "\n",
    "# Probability of being in one group or the other\n",
    "PAplus_C = 0.5\n",
    "PAminus_C = 1 - PAplus_C\n",
    "\n",
    "# This is the median of all 4 advance columns\n",
    "PBplus = (.56 + .26) / 2\n",
    "PBminus = 1 - PBplus\n",
    "\n",
    "# This is the transition matrix\n",
    "Ppp = .88\n",
    "Ppm = .70\n",
    "Pmp = 1 - Ppp\n",
    "Pmm = 1 - Ppm"
   ]
  },
  {
   "cell_type": "code",
   "execution_count": 36,
   "metadata": {
    "collapsed": false
   },
   "outputs": [
    {
     "data": {
      "text/plain": [
       "array([[ 0.88,  0.7 ],\n",
       "       [ 0.12,  0.3 ]])"
      ]
     },
     "execution_count": 36,
     "metadata": {},
     "output_type": "execute_result"
    }
   ],
   "source": [
    "transition_matrix = np.array([[Ppp, Ppm], \n",
    "                      [Pmp, Pmm]])\n",
    "transition_matrix"
   ]
  },
  {
   "cell_type": "code",
   "execution_count": 37,
   "metadata": {
    "collapsed": false
   },
   "outputs": [
    {
     "data": {
      "text/plain": [
       "-0.37999999999999995"
      ]
     },
     "execution_count": 37,
     "metadata": {},
     "output_type": "execute_result"
    }
   ],
   "source": [
    "delta_plus = PBplus - PAplus_C * Ppp - PAminus_C * Ppm\n",
    "delta_plus"
   ]
  },
  {
   "cell_type": "code",
   "execution_count": 38,
   "metadata": {
    "collapsed": false
   },
   "outputs": [
    {
     "data": {
      "text/plain": [
       "0.38"
      ]
     },
     "execution_count": 38,
     "metadata": {},
     "output_type": "execute_result"
    }
   ],
   "source": [
    "delta_minus = PBminus - PAplus_C * Pmp - PAminus_C * Pmm\n",
    "delta_minus"
   ]
  },
  {
   "cell_type": "code",
   "execution_count": 39,
   "metadata": {
    "collapsed": false
   },
   "outputs": [
    {
     "data": {
      "text/plain": [
       "0.154"
      ]
     },
     "execution_count": 39,
     "metadata": {},
     "output_type": "execute_result"
    }
   ],
   "source": [
    "pi_plus = PAplus_C * PAminus_C * Ppp*Ppm\n",
    "pi_plus"
   ]
  },
  {
   "cell_type": "code",
   "execution_count": 40,
   "metadata": {
    "collapsed": false
   },
   "outputs": [
    {
     "data": {
      "text/plain": [
       "0.009000000000000001"
      ]
     },
     "execution_count": 40,
     "metadata": {},
     "output_type": "execute_result"
    }
   ],
   "source": [
    "pi_minus = PAplus_C * PAminus_C * Pmp * Pmm\n",
    "pi_minus"
   ]
  },
  {
   "cell_type": "code",
   "execution_count": 41,
   "metadata": {
    "collapsed": false
   },
   "outputs": [
    {
     "data": {
      "text/plain": [
       "-0.48416483186574416"
      ]
     },
     "execution_count": 41,
     "metadata": {},
     "output_type": "execute_result"
    }
   ],
   "source": [
    "lambda_plus = delta_plus / (2*np.sqrt(pi_plus))\n",
    "lambda_plus"
   ]
  },
  {
   "cell_type": "code",
   "execution_count": 42,
   "metadata": {
    "collapsed": false
   },
   "outputs": [
    {
     "data": {
      "text/plain": [
       "2.0027758514399734"
      ]
     },
     "execution_count": 42,
     "metadata": {},
     "output_type": "execute_result"
    }
   ],
   "source": [
    "lambda_minus = delta_minus / (2 * np.sqrt(pi_minus))\n",
    "lambda_minus"
   ]
  },
  {
   "cell_type": "code",
   "execution_count": 43,
   "metadata": {
    "collapsed": false
   },
   "outputs": [
    {
     "data": {
      "text/plain": [
       "2.0762047389593565"
      ]
     },
     "execution_count": 43,
     "metadata": {},
     "output_type": "execute_result"
    }
   ],
   "source": [
    "theta_plus = arccos_or_archosh(lambda_plus)\n",
    "theta_plus"
   ]
  },
  {
   "cell_type": "code",
   "execution_count": 45,
   "metadata": {
    "collapsed": false
   },
   "outputs": [
    {
     "name": "stdout",
     "output_type": "stream",
     "text": [
      "using arcosh!\n"
     ]
    },
    {
     "data": {
      "text/plain": [
       "1.3185590546600467"
      ]
     },
     "execution_count": 45,
     "metadata": {},
     "output_type": "execute_result"
    }
   ],
   "source": [
    "theta_minus = arccos_or_archosh(lambda_minus)\n",
    "theta_minus"
   ]
  },
  {
   "cell_type": "code",
   "execution_count": null,
   "metadata": {
    "collapsed": true
   },
   "outputs": [],
   "source": []
  }
 ],
 "metadata": {
  "anaconda-cloud": {},
  "kernelspec": {
   "display_name": "Python [conda env:anaconda3]",
   "language": "python",
   "name": "conda-env-anaconda3-py"
  },
  "language_info": {
   "codemirror_mode": {
    "name": "ipython",
    "version": 3
   },
   "file_extension": ".py",
   "mimetype": "text/x-python",
   "name": "python",
   "nbconvert_exporter": "python",
   "pygments_lexer": "ipython3",
   "version": "3.5.2"
  }
 },
 "nbformat": 4,
 "nbformat_minor": 1
}
