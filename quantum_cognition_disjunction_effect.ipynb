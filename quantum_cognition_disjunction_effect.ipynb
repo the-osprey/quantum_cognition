{
 "cells": [
  {
   "cell_type": "markdown",
   "metadata": {},
   "source": [
    "# Applying quantum cognition to address disjunction effect\n",
    "\n",
    "### _Here I look at a few studies in which quantum cognition explains disjunction paradoxes_"
   ]
  },
  {
   "cell_type": "code",
   "execution_count": 67,
   "metadata": {
    "collapsed": false
   },
   "outputs": [],
   "source": [
    "import csv\n",
    "import numpy as np\n",
    "import pandas as pd\n",
    "import matplotlib.pyplot as plt\n",
    "import zipfile\n",
    "from pathlib import Path\n"
   ]
  },
  {
   "cell_type": "markdown",
   "metadata": {},
   "source": [
    "## Insert Given Values from Study:"
   ]
  },
  {
   "cell_type": "code",
   "execution_count": 68,
   "metadata": {
    "collapsed": true
   },
   "outputs": [],
   "source": [
    "# Croson numbers\n",
    "\"\"\"\n",
    "PBd = 0.54\n",
    "PAd = 0.225\n",
    "\n",
    "#notice this is just a game theory matrix so must sum across row\n",
    "PAd_Bd = 0.68\n",
    "PAd_Bc = 0.17\n",
    "PAc_Bc = 0.83\n",
    "PAc_Bd = 0.32\n",
    "\"\"\""
   ]
  },
  {
   "cell_type": "code",
   "execution_count": 128,
   "metadata": {
    "collapsed": true
   },
   "outputs": [],
   "source": [
    "\"\"\"\n",
    "# Kahneman and Tversky numbers\n",
    "PBd = 0.5\n",
    "PAd = 0.32\n",
    "\n",
    "#notice this is just a game theory matrix so must sum across row\n",
    "PAd_Bd = 0.69\n",
    "PAd_Bc = 0.59\n",
    "PAc_Bc = 0.41\n",
    "PAc_Bd = 0.31\n",
    "\"\"\""
   ]
  },
  {
   "cell_type": "code",
   "execution_count": 137,
   "metadata": {
    "collapsed": true
   },
   "outputs": [],
   "source": [
    "# Exam & Hawaii experiment numbers\n",
    "PBd = 0.5\n",
    "PAd = 0.32\n",
    "\n",
    "#notice this is just a game theory matrix so must sum across row\n",
    "PAd_Bd = 0.54\n",
    "PAd_Bc = 0.57\n",
    "PAc_Bc = 0.43\n",
    "PAc_Bd = 0.46"
   ]
  },
  {
   "cell_type": "markdown",
   "metadata": {},
   "source": [
    "## Here's the game theory matrix:"
   ]
  },
  {
   "cell_type": "code",
   "execution_count": 138,
   "metadata": {
    "collapsed": false
   },
   "outputs": [
    {
     "data": {
      "text/plain": [
       "array([[ 0.43,  0.57],\n",
       "       [ 0.46,  0.54]])"
      ]
     },
     "execution_count": 138,
     "metadata": {},
     "output_type": "execute_result"
    }
   ],
   "source": [
    "gt_matrix = np.array([[PAc_Bc, PAd_Bc], \n",
    "                      [PAc_Bd, PAd_Bd]])\n",
    "gt_matrix"
   ]
  },
  {
   "cell_type": "markdown",
   "metadata": {},
   "source": [
    "## Calculate P_t(A1)"
   ]
  },
  {
   "cell_type": "code",
   "execution_count": 139,
   "metadata": {
    "collapsed": false
   },
   "outputs": [
    {
     "data": {
      "text/plain": [
       "0.5549999999999999"
      ]
     },
     "execution_count": 139,
     "metadata": {},
     "output_type": "execute_result"
    }
   ],
   "source": [
    "P_tA1 =  PBd*PAd_Bd + (1 - PBd) * PAd_Bc\n",
    "P_tA1"
   ]
  },
  {
   "cell_type": "markdown",
   "metadata": {},
   "source": [
    "## Now calculate δ (interference) term"
   ]
  },
  {
   "cell_type": "code",
   "execution_count": 140,
   "metadata": {
    "collapsed": false
   },
   "outputs": [
    {
     "data": {
      "text/plain": [
       "(-0.23499999999999993, 0.23499999999999993)"
      ]
     },
     "execution_count": 140,
     "metadata": {},
     "output_type": "execute_result"
    }
   ],
   "source": [
    "d1 = PAd - P_tA1\n",
    "d2 = -d1\n",
    "d1, d2"
   ]
  },
  {
   "cell_type": "code",
   "execution_count": 141,
   "metadata": {
    "collapsed": false
   },
   "outputs": [
    {
     "data": {
      "text/plain": [
       "(2.0081880268800973, 1.0140930430442257)"
      ]
     },
     "execution_count": 141,
     "metadata": {},
     "output_type": "execute_result"
    }
   ],
   "source": [
    "#=ACOS(B14/(2*SQRT(B4*B3*B5*0.46)))\n",
    "theta_d1 = np.arccos(d1/(2*np.sqrt(PAd_Bd*PBd*PAd_Bc*(1-PBd))))\n",
    "theta_d2 = np.arccos(d2/(2*np.sqrt(PAc_Bd*PBd*PAc_Bc*(1-PBd))))\n",
    "theta_d1, theta_d2"
   ]
  },
  {
   "cell_type": "markdown",
   "metadata": {},
   "source": [
    "## V Matrix:\n"
   ]
  },
  {
   "cell_type": "code",
   "execution_count": 142,
   "metadata": {
    "collapsed": false
   },
   "outputs": [
    {
     "data": {
      "text/plain": [
       "array([[ 0.73484692+0.j        ,  0.33140529+0.90585956j],\n",
       "       [ 1.20662316+0.84900167j,  0.43000000+0.j        ]])"
      ]
     },
     "execution_count": 142,
     "metadata": {},
     "output_type": "execute_result"
    }
   ],
   "source": [
    "V = np.array([[np.sqrt(PAd_Bd), np.sqrt(PAd_Bc) + np.exp(np.complex(0, theta_d1))],\n",
    "             [np.sqrt(PAc_Bd) + np.exp(np.complex(0, theta_d2)), PAc_Bc]])\n",
    "V"
   ]
  },
  {
   "cell_type": "markdown",
   "metadata": {},
   "source": [
    "## set  (Bd|s), (Bc|s)"
   ]
  },
  {
   "cell_type": "code",
   "execution_count": 143,
   "metadata": {
    "collapsed": false
   },
   "outputs": [
    {
     "data": {
      "text/plain": [
       "(0.70710678118654757, 0.70710678118654757)"
      ]
     },
     "execution_count": 143,
     "metadata": {},
     "output_type": "execute_result"
    }
   ],
   "source": [
    "Bd_S = np.sqrt(PBd)\n",
    "Bc_S = np.sqrt(1-PBd)\n",
    "Bd_S, Bc_S"
   ]
  },
  {
   "cell_type": "markdown",
   "metadata": {},
   "source": [
    "## Calculate Psi"
   ]
  },
  {
   "cell_type": "code",
   "execution_count": 144,
   "metadata": {
    "collapsed": false
   },
   "outputs": [
    {
     "data": {
      "text/plain": [
       "((0.29348638683806+0.48359667155672281j),\n",
       " (0.71708794180286539+0.40716689909781506j))"
      ]
     },
     "execution_count": 144,
     "metadata": {},
     "output_type": "execute_result"
    }
   ],
   "source": [
    "AdS = np.sqrt(PAd_Bd*PBd) + np.sqrt(PAd_Bc*(1-PBd)) * np.exp(complex(0, theta_d1))\n",
    "AcS =  np.sqrt(PAc_Bd*PBd) * np.exp(complex(0, theta_d2)) + np.sqrt(PAc_Bc*(1-PBd))\n",
    "AdS,  AcS"
   ]
  },
  {
   "cell_type": "markdown",
   "metadata": {},
   "source": [
    "## Take conjugate, multiply to get result"
   ]
  },
  {
   "cell_type": "code",
   "execution_count": 145,
   "metadata": {
    "collapsed": false
   },
   "outputs": [
    {
     "data": {
      "text/plain": [
       "(array(0.32000000000000023), array(0.6799999999999999))"
      ]
     },
     "execution_count": 145,
     "metadata": {},
     "output_type": "execute_result"
    }
   ],
   "source": [
    "AdS_squared = np.conj(AdS) * AdS\n",
    "AcS_squared = np.conj(AcS) * AcS\n",
    "np.real(AdS_squared), np.real(AcS_squared)\n"
   ]
  }
 ],
 "metadata": {
  "anaconda-cloud": {},
  "kernelspec": {
   "display_name": "Python [conda env:anaconda3]",
   "language": "python",
   "name": "conda-env-anaconda3-py"
  },
  "language_info": {
   "codemirror_mode": {
    "name": "ipython",
    "version": 3
   },
   "file_extension": ".py",
   "mimetype": "text/x-python",
   "name": "python",
   "nbconvert_exporter": "python",
   "pygments_lexer": "ipython3",
   "version": "3.5.2"
  }
 },
 "nbformat": 4,
 "nbformat_minor": 1
}
